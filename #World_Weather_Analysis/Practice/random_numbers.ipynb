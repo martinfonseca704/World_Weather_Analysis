{
 "cells": [
  {
   "cell_type": "markdown",
   "id": "ea0f09dc",
   "metadata": {},
   "source": [
    "#6.1.4 Generate Random Latitudes and Longitudes"
   ]
  },
  {
   "cell_type": "code",
   "execution_count": 15,
   "id": "db94d3d5",
   "metadata": {},
   "outputs": [],
   "source": [
    "# Import the random module.\n",
    "import random"
   ]
  },
  {
   "cell_type": "markdown",
   "id": "45812e82",
   "metadata": {},
   "source": [
    "#The randint() Function"
   ]
  },
  {
   "cell_type": "code",
   "execution_count": 14,
   "id": "41530f15",
   "metadata": {},
   "outputs": [
    {
     "data": {
      "text/plain": [
       "-50"
      ]
     },
     "execution_count": 14,
     "metadata": {},
     "output_type": "execute_result"
    }
   ],
   "source": [
    "random.randint(-90, 90)"
   ]
  },
  {
   "cell_type": "markdown",
   "id": "b1cefcf4",
   "metadata": {},
   "source": [
    "#The random() Function"
   ]
  },
  {
   "cell_type": "code",
   "execution_count": 10,
   "id": "4faadeee",
   "metadata": {},
   "outputs": [
    {
     "data": {
      "text/plain": [
       "0.6485466253674074"
      ]
     },
     "execution_count": 10,
     "metadata": {},
     "output_type": "execute_result"
    }
   ],
   "source": [
    "random.random()"
   ]
  },
  {
   "cell_type": "code",
   "execution_count": 16,
   "id": "c73c97c0",
   "metadata": {},
   "outputs": [
    {
     "data": {
      "text/plain": [
       "75.05663811135229"
      ]
     },
     "execution_count": 16,
     "metadata": {},
     "output_type": "execute_result"
    }
   ],
   "source": [
    "random_number = random.randint(-90, 89) + random.random()\n",
    "random_number"
   ]
  },
  {
   "cell_type": "code",
   "execution_count": 21,
   "id": "866057c2",
   "metadata": {},
   "outputs": [
    {
     "data": {
      "text/plain": [
       "[86.86392488991801,\n",
       " -17.13677184236255,\n",
       " 48.991489871404035,\n",
       " 35.226562800769685,\n",
       " 16.652801566511837,\n",
       " -60.60860745593755,\n",
       " 25.18708262244055,\n",
       " 25.072967517589817,\n",
       " -29.955251602856908,\n",
       " -8.549850456622416]"
      ]
     },
     "execution_count": 21,
     "metadata": {},
     "output_type": "execute_result"
    }
   ],
   "source": [
    "x = 1\n",
    "latitudes = []\n",
    "while x < 11:\n",
    "    random_lat = random.randint(-90, 89) + random.random()\n",
    "    latitudes.append(random_lat)\n",
    "    x += 1\n",
    "latitudes"
   ]
  },
  {
   "cell_type": "markdown",
   "id": "4f1c593c",
   "metadata": {},
   "source": [
    "#The randrange() Function"
   ]
  },
  {
   "cell_type": "code",
   "execution_count": 22,
   "id": "db84b8c7",
   "metadata": {},
   "outputs": [
    {
     "data": {
      "text/plain": [
       "83"
      ]
     },
     "execution_count": 22,
     "metadata": {},
     "output_type": "execute_result"
    }
   ],
   "source": [
    "random.randrange(-90, 90, step=1)"
   ]
  },
  {
   "cell_type": "code",
   "execution_count": 23,
   "id": "6a85d0d5",
   "metadata": {},
   "outputs": [
    {
     "data": {
      "text/plain": [
       "0"
      ]
     },
     "execution_count": 23,
     "metadata": {},
     "output_type": "execute_result"
    }
   ],
   "source": [
    "random.randrange(-90, 90, step=3)"
   ]
  },
  {
   "cell_type": "code",
   "execution_count": null,
   "id": "94955234",
   "metadata": {},
   "outputs": [],
   "source": []
  },
  {
   "cell_type": "code",
   "execution_count": null,
   "id": "df2e5da8",
   "metadata": {},
   "outputs": [],
   "source": [
    "#The uniform() Function"
   ]
  },
  {
   "cell_type": "code",
   "execution_count": 24,
   "id": "6e216aa5",
   "metadata": {},
   "outputs": [
    {
     "data": {
      "text/plain": [
       "-88.95856262981233"
      ]
     },
     "execution_count": 24,
     "metadata": {},
     "output_type": "execute_result"
    }
   ],
   "source": [
    "random.uniform(-90, 90)"
   ]
  },
  {
   "cell_type": "code",
   "execution_count": null,
   "id": "8903fc8d",
   "metadata": {},
   "outputs": [],
   "source": []
  },
  {
   "cell_type": "code",
   "execution_count": null,
   "id": "67810c93",
   "metadata": {},
   "outputs": [],
   "source": [
    "#The NumPy and random Modules"
   ]
  },
  {
   "cell_type": "code",
   "execution_count": 25,
   "id": "39eb4dd3",
   "metadata": {},
   "outputs": [],
   "source": [
    "# Import the NumPy module.\n",
    "import numpy as np"
   ]
  },
  {
   "cell_type": "code",
   "execution_count": 26,
   "id": "e43c6d03",
   "metadata": {},
   "outputs": [
    {
     "data": {
      "text/plain": [
       "31.15391582771572"
      ]
     },
     "execution_count": 26,
     "metadata": {},
     "output_type": "execute_result"
    }
   ],
   "source": [
    "np.random.uniform(-90.000, 90.000)"
   ]
  },
  {
   "cell_type": "code",
   "execution_count": 27,
   "id": "dabb9fb4",
   "metadata": {},
   "outputs": [
    {
     "data": {
      "text/plain": [
       "-8.320048323163206"
      ]
     },
     "execution_count": 27,
     "metadata": {},
     "output_type": "execute_result"
    }
   ],
   "source": [
    "#Another option is to write the parameters as\n",
    "np.random.uniform(low=-90, high=90)"
   ]
  },
  {
   "cell_type": "code",
   "execution_count": 28,
   "id": "d452b7e3",
   "metadata": {},
   "outputs": [
    {
     "data": {
      "text/plain": [
       "array([-33.31076291, -77.43895607,  89.50481778, -18.72582164,\n",
       "        -1.38787977,  -2.12539127,  -7.39234515,  40.76849994,\n",
       "       -27.13634152,  35.43526236, -57.77612109, -41.45411718,\n",
       "       -45.0194762 , -22.71095535, -58.87660578,  28.85036027,\n",
       "        84.80411996,  -6.21968686, -41.94313185, -89.64695332,\n",
       "       -67.42017888, -81.5798893 ,  88.9361362 ,  30.60521752,\n",
       "        28.278719  , -23.54009143, -71.49231473, -34.61469351,\n",
       "        28.91120917,  -5.31236449, -68.47892867,  87.31915597,\n",
       "       -56.03797492,  80.28430535,  29.17785361, -56.72812127,\n",
       "       -67.69036689, -53.52354693,   5.26869532, -83.80863218,\n",
       "        45.63132951, -42.56283029,  16.56834627, -35.88078635,\n",
       "       -53.32237375,   4.2183462 ,  60.61662557,  30.99928972,\n",
       "       -18.56298295,   1.99155265])"
      ]
     },
     "execution_count": 28,
     "metadata": {},
     "output_type": "execute_result"
    }
   ],
   "source": [
    "np.random.uniform(-90.000, 90.000, size=50)"
   ]
  },
  {
   "cell_type": "code",
   "execution_count": 29,
   "id": "a04b8033",
   "metadata": {},
   "outputs": [],
   "source": [
    "# Import timeit.\n",
    "import timeit"
   ]
  },
  {
   "cell_type": "code",
   "execution_count": 30,
   "id": "7082562b",
   "metadata": {},
   "outputs": [
    {
     "name": "stdout",
     "output_type": "stream",
     "text": [
      "48.5 µs ± 585 ns per loop (mean ± std. dev. of 7 runs, 10,000 loops each)\n"
     ]
    }
   ],
   "source": [
    "%timeit np.random.uniform(-90.000, 90.000, size=1500)"
   ]
  },
  {
   "cell_type": "code",
   "execution_count": 31,
   "id": "1abf70f9",
   "metadata": {},
   "outputs": [
    {
     "name": "stdout",
     "output_type": "stream",
     "text": [
      "4.45 ms ± 70.8 µs per loop (mean ± std. dev. of 7 runs, 100 loops each)\n"
     ]
    }
   ],
   "source": [
    "def latitudes(size):\n",
    "    latitudes = []\n",
    "    x = 0\n",
    "    while x < (size):\n",
    "        random_lat = random.randint(-90, 90) + random.random()\n",
    "        latitudes.append(random_lat)\n",
    "        x += 1\n",
    "    return latitudes\n",
    "# Call the function with 1500.\n",
    "%timeit latitudes(1500)"
   ]
  },
  {
   "cell_type": "code",
   "execution_count": 32,
   "id": "655f3c76",
   "metadata": {},
   "outputs": [
    {
     "data": {
      "text/plain": [
       "array([ 87.73681911,  -7.47322284, -80.61123508, ...,  16.31057148,\n",
       "       -46.13155189, -35.01850028])"
      ]
     },
     "execution_count": 32,
     "metadata": {},
     "output_type": "execute_result"
    }
   ],
   "source": [
    "np.random.uniform(-90.000, 90.000, size=1500)"
   ]
  },
  {
   "cell_type": "code",
   "execution_count": null,
   "id": "75f081b6",
   "metadata": {},
   "outputs": [],
   "source": []
  },
  {
   "cell_type": "code",
   "execution_count": 33,
   "id": "77fc2c92",
   "metadata": {},
   "outputs": [],
   "source": [
    "#skilldrill"
   ]
  },
  {
   "cell_type": "code",
   "execution_count": 37,
   "id": "008d040b",
   "metadata": {},
   "outputs": [
    {
     "name": "stdout",
     "output_type": "stream",
     "text": [
      "48.2 µs ± 558 ns per loop (mean ± std. dev. of 7 runs, 10,000 loops each)\n"
     ]
    }
   ],
   "source": [
    "%timeit np.random.uniform(50.000, 100.000, size=1500)"
   ]
  },
  {
   "cell_type": "code",
   "execution_count": null,
   "id": "94d16c6f",
   "metadata": {},
   "outputs": [],
   "source": []
  },
  {
   "cell_type": "code",
   "execution_count": 38,
   "id": "1e647db9",
   "metadata": {},
   "outputs": [
    {
     "name": "stdout",
     "output_type": "stream",
     "text": [
      "4.55 ms ± 253 µs per loop (mean ± std. dev. of 7 runs, 100 loops each)\n"
     ]
    }
   ],
   "source": [
    "def latitudes(size):\n",
    "    latitudes = []\n",
    "    x = 0\n",
    "    while x < (size):\n",
    "        random_lat = random.randint(50.000, 100.000) + random.random()\n",
    "        latitudes.append(random_lat)\n",
    "        x += 1\n",
    "    return latitudes\n",
    "# Call the function with 1500.\n",
    "%timeit latitudes(1500)"
   ]
  },
  {
   "cell_type": "code",
   "execution_count": 39,
   "id": "27c32519",
   "metadata": {},
   "outputs": [
    {
     "data": {
      "text/plain": [
       "array([76.64260016, 63.66736919, 74.61667289, ..., 64.72715263,\n",
       "       68.05799273, 72.04701367])"
      ]
     },
     "execution_count": 39,
     "metadata": {},
     "output_type": "execute_result"
    }
   ],
   "source": [
    "np.random.uniform(50.000, 100.000, size=1500)"
   ]
  },
  {
   "cell_type": "code",
   "execution_count": null,
   "id": "039797c6",
   "metadata": {},
   "outputs": [],
   "source": []
  }
 ],
 "metadata": {
  "kernelspec": {
   "display_name": "Python 3 (ipykernel)",
   "language": "python",
   "name": "python3"
  },
  "language_info": {
   "codemirror_mode": {
    "name": "ipython",
    "version": 3
   },
   "file_extension": ".py",
   "mimetype": "text/x-python",
   "name": "python",
   "nbconvert_exporter": "python",
   "pygments_lexer": "ipython3",
   "version": "3.7.13"
  }
 },
 "nbformat": 4,
 "nbformat_minor": 5
}
